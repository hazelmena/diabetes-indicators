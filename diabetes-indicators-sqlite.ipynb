{
 "cells": [
  {
   "cell_type": "code",
   "execution_count": 1,
   "id": "6ba365fd",
   "metadata": {},
   "outputs": [],
   "source": [
    "import sqlite3\n",
    "import pandas as pd"
   ]
  },
  {
   "cell_type": "code",
   "execution_count": 2,
   "id": "c806f69f",
   "metadata": {},
   "outputs": [],
   "source": [
    "conn = sqlite3.connect('diabetesindicators.db')"
   ]
  },
  {
   "cell_type": "code",
   "execution_count": 3,
   "id": "531c7584",
   "metadata": {},
   "outputs": [],
   "source": [
    "cursor = conn.cursor()"
   ]
  },
  {
   "cell_type": "code",
   "execution_count": 4,
   "id": "c73fe8c4",
   "metadata": {},
   "outputs": [
    {
     "data": {
      "text/plain": [
       "<sqlite3.Cursor at 0x7f9b9f7533c0>"
      ]
     },
     "execution_count": 4,
     "metadata": {},
     "output_type": "execute_result"
    }
   ],
   "source": [
    "cursor.execute('''\n",
    "    CREATE TABLE IF NOT EXISTS sample_data (\n",
    "        id INTEGER PRIMARY KEY,\n",
    "        Diabetes_binary VARCHAR,\n",
    "        HighBP VARCHAR,\n",
    "        Sex VARCHAR,\n",
    "        Age VARCHAR\n",
    "        BMI VARCHAR\n",
    "    );\n",
    "''')"
   ]
  },
  {
   "cell_type": "code",
   "execution_count": 5,
   "id": "f37664fb",
   "metadata": {},
   "outputs": [],
   "source": [
    "conn.commit()"
   ]
  },
  {
   "cell_type": "code",
   "execution_count": 6,
   "id": "a4a158bf",
   "metadata": {},
   "outputs": [],
   "source": [
    "csv_file_path = '/Users/hazelmena/Desktop/Homework/diabetes-indicators/modified.csv'  # Adjust the file path accordingly\n",
    "df = pd.read_csv(csv_file_path)"
   ]
  },
  {
   "cell_type": "code",
   "execution_count": 7,
   "id": "264477de",
   "metadata": {},
   "outputs": [
    {
     "data": {
      "text/plain": [
       "253680"
      ]
     },
     "execution_count": 7,
     "metadata": {},
     "output_type": "execute_result"
    }
   ],
   "source": [
    "df.to_sql('sample_data', conn, if_exists='replace', index=False)\n"
   ]
  },
  {
   "cell_type": "code",
   "execution_count": 8,
   "id": "c5fb75ed",
   "metadata": {},
   "outputs": [],
   "source": [
    "columns = [\"HighBP\", \"Sex\", \"Age\",\"BMI\",\"Diabetes_binary\"]"
   ]
  },
  {
   "cell_type": "code",
   "execution_count": 9,
   "id": "c249dd37",
   "metadata": {},
   "outputs": [],
   "source": [
    "for column_name in columns:\n",
    "    # Create a new table for the current column including 'id' and 'Diabetes_binary'\n",
    "    cursor.execute(f\"CREATE TABLE IF NOT EXISTS {column_name}_table AS SELECT id, Diabetes_binary, {column_name} FROM sample_data;\")\n",
    "    cursor.execute(\"DROP TABLE IF EXISTS Diabetes_binary_table;\")"
   ]
  },
  {
   "cell_type": "code",
   "execution_count": 10,
   "id": "56f59e95",
   "metadata": {},
   "outputs": [],
   "source": [
    "conn.commit()"
   ]
  },
  {
   "cell_type": "code",
   "execution_count": 11,
   "id": "b3bed599",
   "metadata": {},
   "outputs": [],
   "source": [
    "conn.close()"
   ]
  },
  {
   "cell_type": "code",
   "execution_count": null,
   "id": "e9971a01",
   "metadata": {},
   "outputs": [],
   "source": []
  }
 ],
 "metadata": {
  "kernelspec": {
   "display_name": "Python 3 (ipykernel)",
   "language": "python",
   "name": "python3"
  },
  "language_info": {
   "codemirror_mode": {
    "name": "ipython",
    "version": 3
   },
   "file_extension": ".py",
   "mimetype": "text/x-python",
   "name": "python",
   "nbconvert_exporter": "python",
   "pygments_lexer": "ipython3",
   "version": "3.10.11"
  }
 },
 "nbformat": 4,
 "nbformat_minor": 5
}
